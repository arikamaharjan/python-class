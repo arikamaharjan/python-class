{
 "cells": [
  {
   "cell_type": "markdown",
   "metadata": {},
   "source": [
    "## Arika Maharjan Week 1 assignment\n",
    "## python programming week 1\n",
    "- ## Many types of variables\n",
    "variables are used to store various datas and some of its types are\n",
    "    - Numeric variables: It is used for storing the numbers as it can be in different types like integer, floating-point and lastly the complex numbers.\n",
    "    - string variables: In string variables they are denoted by the single ' or the double \". It includes the numbers, letters, symbols and also space.\n",
    "    - Naming variables: This variable uses the clear and descriptive names which convey the variable purpose like total_price, user_name etc.This variables are also case sensitive. There shouldn't be the reserved words of python.\n",
    "- ## The condition statement\n",
    "- It executes the various actions which is based on whether the specified condition is true or false.\n",
    "- ## The operators in python\n",
    "    - \"%\" - modulus\n",
    "    - \"/\" - division\n",
    "    - \"+\" - addition\n",
    "    - \"*\" - multiplication\n",
    "    - \"-\" - subtractions\n",
    "    - \"**\" - exponentiation\n",
    "- ## loops \n",
    "- loop is known as the programming construct which repeatedly executes the block of code as long as the specified condition is true or until the particular condition is met.\n",
    "- types of loop\n",
    "    - For loop\n",
    "    - while loop\n",
    "- ## List\n",
    "- it is the mutable or the ordered collection of items which can hold the elements of the different types of data.\n",
    "- ## concatenation of words\n",
    "- The len(variable_name) is use to find out the numbers of the characters which is stored in that variables."
   ]
  },
  {
   "cell_type": "code",
   "execution_count": 12,
   "metadata": {},
   "outputs": [
    {
     "name": "stdout",
     "output_type": "stream",
     "text": [
      "Hello World\n",
      "5 10\n"
     ]
    }
   ],
   "source": [
    "hello=\"Hello World\"\n",
    "print(hello)\n",
    "a=5\n",
    "b=10\n",
    "print(a,b)"
   ]
  },
  {
   "cell_type": "code",
   "execution_count": 13,
   "metadata": {},
   "outputs": [
    {
     "name": "stdout",
     "output_type": "stream",
     "text": [
      "14\n",
      "Arika MaharjanAri\n"
     ]
    }
   ],
   "source": [
    "name=\"Arika Maharjan\"\n",
    "number_of_char=len(name)\n",
    "print(number_of_char)\n",
    "first_name=name[0:3] \n",
    "full_name=name + first_name\n",
    "print(full_name)"
   ]
  },
  {
   "cell_type": "markdown",
   "metadata": {},
   "source": [
    "## Conditional sentence\n",
    "- if\n",
    "- elif\n",
    "- else"
   ]
  },
  {
   "cell_type": "code",
   "execution_count": 14,
   "metadata": {},
   "outputs": [
    {
     "name": "stdout",
     "output_type": "stream",
     "text": [
      "It's time for english\n"
     ]
    }
   ],
   "source": [
    "time=12\n",
    "if time <=10:\n",
    "    print(\"It's time for maths\")\n",
    "elif time <=10 and time<12:\n",
    "    print(\"It's time for DSA\")\n",
    "elif time <14 and time>=12:\n",
    "    print(\"It's time for english\")\n",
    "else:\n",
    "    print(\"there is no class\")\n"
   ]
  },
  {
   "cell_type": "markdown",
   "metadata": {},
   "source": [
    "## Loops(iteration)\n",
    "- While\n",
    "- For"
   ]
  },
  {
   "cell_type": "code",
   "execution_count": 15,
   "metadata": {},
   "outputs": [
    {
     "name": "stdout",
     "output_type": "stream",
     "text": [
      "2550\n"
     ]
    }
   ],
   "source": [
    "# counter = 1\n",
    "# while counter<=10:\n",
    "#     print(f\"hello {counter}\")\n",
    "#     counter+=1\n",
    "n=1\n",
    "s=0\n",
    "while n<=100:\n",
    "    if n%2==0:\n",
    "        s+=n\n",
    "    n+=1\n",
    "print (s)"
   ]
  },
  {
   "cell_type": "markdown",
   "metadata": {},
   "source": [
    "## Python List\n",
    "list is ordered collection of items"
   ]
  },
  {
   "cell_type": "code",
   "execution_count": 16,
   "metadata": {},
   "outputs": [
    {
     "name": "stdout",
     "output_type": "stream",
     "text": [
      "1\n",
      "6\n",
      "5\n"
     ]
    }
   ],
   "source": [
    "numbers = [1,2,3,4,5,5]\n",
    "students = ['Ram','Hari']\n",
    "# access elements from list\n",
    "first_number = numbers[0]\n",
    "print(first_number)\n",
    "#count total number of items\n",
    "total_items = len(numbers)\n",
    "print(total_items)\n",
    "#last element\n",
    "last_elemet = numbers[total_items-1]\n",
    "print(last_elemet)"
   ]
  },
  {
   "cell_type": "markdown",
   "metadata": {},
   "source": [
    "## list methods\n",
    "- append(appends new items at the end)\n",
    "- pop(removes last element)\n",
    "- count(return total number of element)\n",
    "- insert(insert item at perticular index)\n",
    "- extend(extend the list)\n",
    "- copy\n",
    "- clear(delete all items)"
   ]
  },
  {
   "cell_type": "code",
   "execution_count": 17,
   "metadata": {},
   "outputs": [
    {
     "name": "stdout",
     "output_type": "stream",
     "text": [
      "[1, 4, 3, 5, 6, 7]\n",
      "[1, 4, 3, 5, 6, 7, 8]\n",
      "[1, 3, 5, 6, 7, 8]\n",
      "[1, 5, 6, 7, 8]\n",
      "[1, 5, 9, 6, 7, 8]\n"
     ]
    }
   ],
   "source": [
    "numbers = [1,4,3,5,6,7]\n",
    "print(numbers)\n",
    "#append items\n",
    "numbers.append(8)\n",
    "print(numbers)\n",
    "# remove last item\n",
    "numbers.pop(1)\n",
    "print(numbers)\n",
    "#remove\n",
    "numbers.remove(3)\n",
    "print (numbers)\n",
    "#insert\n",
    "numbers.insert(2,9)\n",
    "print(numbers)"
   ]
  },
  {
   "cell_type": "code",
   "execution_count": 18,
   "metadata": {},
   "outputs": [
    {
     "name": "stdout",
     "output_type": "stream",
     "text": [
      "['Ram', 'Hari', 'Gopal']\n"
     ]
    }
   ],
   "source": [
    "students = ['Ram','Hari']\n",
    "new_students = students\n",
    "students.append('Gopal')\n",
    "print(new_students)\n"
   ]
  },
  {
   "cell_type": "markdown",
   "metadata": {},
   "source": [
    "## Loop through list"
   ]
  },
  {
   "cell_type": "code",
   "execution_count": 19,
   "metadata": {},
   "outputs": [
    {
     "name": "stdout",
     "output_type": "stream",
     "text": [
      "27\n"
     ]
    }
   ],
   "source": [
    "# find the sum of all items of given list\n",
    "numbers = [1,2,3,4,5,6,6]\n",
    "total_items = len(numbers)\n",
    "index = 0\n",
    "sum = 0\n",
    "while index<total_items:\n",
    "    sum += numbers[index]\n",
    "    index+=1\n",
    "print(sum)"
   ]
  },
  {
   "cell_type": "code",
   "execution_count": 20,
   "metadata": {},
   "outputs": [
    {
     "name": "stdout",
     "output_type": "stream",
     "text": [
      "1009\n"
     ]
    }
   ],
   "source": [
    "# Find the max value from the given list\n",
    "numbers = [-10,-3,-9,-50,-100,1009]\n",
    "index=0\n",
    "total_items = len(numbers)\n",
    "max_value=numbers[0]\n",
    "while index<total_items:\n",
    "    item = numbers[index]\n",
    "    if item>max_value:\n",
    "        max_value=item\n",
    "    index+=1\n",
    "print(max_value)\n"
   ]
  },
  {
   "cell_type": "code",
   "execution_count": 21,
   "metadata": {},
   "outputs": [
    {
     "name": "stdout",
     "output_type": "stream",
     "text": [
      "-100\n"
     ]
    }
   ],
   "source": [
    "# Find the mean value from the given list\n",
    "numbers = [-10,-3,-9,-50,-100,1009]\n",
    "index=0\n",
    "total_items = len(numbers)\n",
    "mean_value=numbers[0]\n",
    "while index<total_items:\n",
    "    item = numbers[index]\n",
    "    if item<mean_value:\n",
    "        mean_value=item\n",
    "    index+=1\n",
    "print(mean_value)"
   ]
  },
  {
   "cell_type": "markdown",
   "metadata": {},
   "source": [
    "## join all list items into single string"
   ]
  },
  {
   "cell_type": "code",
   "execution_count": 22,
   "metadata": {},
   "outputs": [
    {
     "name": "stdout",
     "output_type": "stream",
     "text": [
      "Ram-Hari-Gopal\n"
     ]
    }
   ],
   "source": [
    "students = ['Ram','Hari','Gopal']\n",
    "all_students = '-'.join(students)\n",
    "print(all_students)"
   ]
  }
 ],
 "metadata": {
  "kernelspec": {
   "display_name": "Python 3",
   "language": "python",
   "name": "python3"
  },
  "language_info": {
   "codemirror_mode": {
    "name": "ipython",
    "version": 3
   },
   "file_extension": ".py",
   "mimetype": "text/x-python",
   "name": "python",
   "nbconvert_exporter": "python",
   "pygments_lexer": "ipython3",
   "version": "3.12.7"
  }
 },
 "nbformat": 4,
 "nbformat_minor": 2
}
